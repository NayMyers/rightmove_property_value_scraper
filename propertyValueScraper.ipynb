{
 "cells": [
  {
   "cell_type": "code",
   "execution_count": 1,
   "metadata": {
    "ExecuteTime": {
     "end_time": "2020-10-30T21:44:47.020481Z",
     "start_time": "2020-10-30T21:44:46.154852Z"
    }
   },
   "outputs": [],
   "source": [
    "import os\n",
    "import requests\n",
    "import urllib.request\n",
    "import time\n",
    "from bs4 import BeautifulSoup\n",
    "import re\n",
    "import pandas as pd\n",
    "import matplotlib.pyplot as plt"
   ]
  },
  {
   "cell_type": "code",
   "execution_count": 2,
   "metadata": {
    "ExecuteTime": {
     "end_time": "2020-10-30T21:44:47.178685Z",
     "start_time": "2020-10-30T21:44:47.170754Z"
    }
   },
   "outputs": [
    {
     "data": {
      "text/html": [
       "<style>.container{max-width:70%!important;width:auto!important;}</style>"
      ],
      "text/plain": [
       "<IPython.core.display.HTML object>"
      ]
     },
     "metadata": {},
     "output_type": "display_data"
    }
   ],
   "source": [
    "#makes the view of the page a bit wider. Nice!\n",
    "from IPython.core.display import display, HTML\n",
    "display(HTML(\"<style>.container{max-width:70%!important;width:auto!important;}</style>\"))"
   ]
  },
  {
   "cell_type": "markdown",
   "metadata": {},
   "source": [
    "def lookupLocation(regionCode):\n",
    "    //Todo. implement a lookup table for region code -> region name \n",
    "devon = \"5E61297\"\n",
    "isleOfWight = \"5E61521\"\n",
    "cornwall = \"5E61294\""
   ]
  },
  {
   "cell_type": "code",
   "execution_count": null,
   "metadata": {
    "ExecuteTime": {
     "end_time": "2020-10-30T16:04:18.509598Z",
     "start_time": "2020-10-30T16:04:18.504793Z"
    }
   },
   "outputs": [],
   "source": [
    "def extractRegionCodeFromUrl(url):\n",
    "    regionFullStringPattern = \"REGION%.......\"\n",
    "    regionCode = re.search(regionFullStringPattern, url).group()[-7:]\n",
    "    return regionCode"
   ]
  },
  {
   "cell_type": "code",
   "execution_count": 3,
   "metadata": {
    "ExecuteTime": {
     "end_time": "2020-10-30T21:44:52.311317Z",
     "start_time": "2020-10-30T21:44:52.305181Z"
    }
   },
   "outputs": [],
   "source": [
    "def getResponseObjectFromClient(noOfBed, regionCode, pageNo):\n",
    "    #start from page 0 \n",
    "    index = str(pageNo * 24)\n",
    "    noOfBed = str(noOfBed)\n",
    "    regionCode = str(regionCode)\n",
    "    \n",
    "    url = 'https://www.rightmove.co.uk/property-for-sale/find.html?locationIdentifier=REGION%'+regionCode+'&maxBedrooms='+noOfBed+'&minBedrooms='+noOfBed+'&index='+index+'&propertyTypes=&includeSSTC=false&mustHave=&dontShow=&furnishTypes=&keywords='\n",
    "    #returns 200 if successfull\n",
    "    response = requests.get(url)\n",
    "    return response"
   ]
  },
  {
   "cell_type": "code",
   "execution_count": 10,
   "metadata": {
    "ExecuteTime": {
     "end_time": "2020-10-30T21:48:27.185795Z",
     "start_time": "2020-10-30T21:48:27.174620Z"
    }
   },
   "outputs": [],
   "source": [
    "def gatherData(noOfBed, regionCode):\n",
    "    pageNo = 0\n",
    "    successCode = 200\n",
    "    responseCode = successCode\n",
    "    fileRoot = os.getcwd()\n",
    "    cwd = os.getcwd()\n",
    "    \n",
    "    while responseCode == successCode:\n",
    "        bedNoPath = \"/\" + str(noOfBed)\n",
    "        regionPath = \"/\" + regionCode\n",
    "        fileName = regionCode + \"-\" + str(noOfBed) + \"-\" + str(pageNo) + \"-response.txt\"\n",
    "        \n",
    "        dirPath = fileRoot + regionPath + bedNoPath + \"/\"\n",
    "        fullPath = dirPath + fileName\n",
    "        \n",
    "        isFile = os.path.isfile(fullPath) \n",
    "        isRegionPath = os.path.exists(fileRoot+regionPath)\n",
    "        isBedNoPath = os.path.exists(fileRoot+ regionPath + bedNoPath)\n",
    "        \n",
    "        if(isRegionPath == False):\n",
    "            os.mkdir(fileRoot+regionPath)\n",
    "        if(isBedNoPath == False):\n",
    "            os.chdir(fileRoot+regionPath)\n",
    "            os.mkdir(os.getcwd()+ bedNoPath)\n",
    "            os.chdir(fileRoot)\n",
    "        if(isFile == False):\n",
    "            response = getResponseObjectFromClient(noOfBed, regionCode, pageNo)\n",
    "            responseCode = int(response.status_code)\n",
    "            if(responseCode == successCode):\n",
    "                responseText = BeautifulSoup(response.text, \"html.parser\")\n",
    "                with open(fullPath, 'w') as clientRes:\n",
    "                    clientRes.write(str(responseText))\n",
    "        pageNo+=1 "
   ]
  },
  {
   "cell_type": "code",
   "execution_count": 44,
   "metadata": {
    "ExecuteTime": {
     "end_time": "2020-10-30T22:20:49.428344Z",
     "start_time": "2020-10-30T22:20:49.417942Z"
    }
   },
   "outputs": [],
   "source": [
    "#The string we're interested in from the raw response -> displayPrice : ''\">£925,000\n",
    "#get our cached data\n",
    "\n",
    "#TODO MAKE THIS REACH IN TO THE CORRECT FOLDER AND PRINT OUT A CONTINUOUS CSV OF ALL THE PRICES \n",
    "def extractPricesToCSV(noOfBed, regionCode):\n",
    "    csvFileName = regionCode + \"-\" + str(noOfBed) + \"-prices.csv\"\n",
    "    \n",
    "    fileRoot = os.getcwd()\n",
    "    cwd = os.getcwd()\n",
    "    bedNoPath = \"/\" + str(noOfBed)\n",
    "    regionPath = \"/\" + regionCode\n",
    "    dirPath = fileRoot + regionPath + bedNoPath\n",
    "    \n",
    "    filePaths = []\n",
    "    \n",
    "    #too lazy to optimize this expression but works to 100 billion\n",
    "    cardPricePattern = r'displayPrice\\s*:\\s*\\'\\'\">£\\d*,*\\d*,*\\d*,*\\d*'\n",
    "    valuePattern = '\\d+,*\\d*,*\\d*,*\\d*'\n",
    "    \n",
    "    for filename in os.listdir(dirPath):\n",
    "        if filename.endswith(\".txt\"):\n",
    "            filePaths.append(os.path.join(dirPath, filename))\n",
    "            \n",
    "    #this is the array that contains our property values as floats\n",
    "    prices = []\n",
    "    \n",
    "    os.chdir(fileRoot + regionPath)\n",
    "    with open(csvFileName, 'w') as csv:\n",
    "        csv.write(\"prices-\" + regionCode + \"-\" + str(noOfBed)+ \"\\n\")\n",
    "        for path in filePaths:\n",
    "            with open(path, 'r') as response:\n",
    "                responseText = response.read()\n",
    "                valueTagMatches = re.findall(cardPricePattern, responseText)\n",
    "                for match in valueTagMatches:\n",
    "                    price = re.findall(valuePattern, match)[0].replace(',', '')\n",
    "                    prices.append(float(price))\n",
    "                    csv.write(price + \"\\n\")\n",
    "    os.chdir(fileRoot)"
   ]
  },
  {
   "cell_type": "code",
   "execution_count": 47,
   "metadata": {
    "ExecuteTime": {
     "end_time": "2020-10-30T22:22:45.468655Z",
     "start_time": "2020-10-30T22:22:45.458027Z"
    }
   },
   "outputs": [],
   "source": [
    "def performCalculations(regionCode, noOfBedMax):\n",
    "    priceData = []\n",
    "    priceDataThousands = []\n",
    "    cwd = os.getcwd()\n",
    "    for noOfBed in range(1,noOfBedMax+1):\n",
    "        fileName = regionCode + \"-\" + str(noOfBed) + \"-prices.csv\"\n",
    "        fullPath = cwd + \"/\" + regionCode + \"/\" + fileName\n",
    "\n",
    "        columnName = \"prices-\" + regionCode + \"-\" +str(noOfBed)\n",
    "        prices = pd.read_csv(fullPath) \n",
    "\n",
    "        total = 0\n",
    "        for index, row in prices.iterrows():\n",
    "            price = float(row[columnName])\n",
    "            total = total + price\n",
    "\n",
    "        noOfRows = prices.shape[0]\n",
    "        meanAvg = int(round(total/noOfRows))\n",
    "        meanAvgThousands = int(round(total/noOfRows/1000))\n",
    "        priceData.append(meanAvg)\n",
    "        priceDataThousands.append(meanAvgThousands)\n",
    "    \n",
    "    plt.style.use('ggplot')\n",
    "\n",
    "    x = ['1', '2', '3', '4', '5', '6', '7', '8']\n",
    "\n",
    "    plt.bar(x, priceDataThousands, color='green')\n",
    "    plt.xlabel(\"No Of Beds\")\n",
    "    plt.ylabel(\"Mean Price (Thousands)\")\n",
    "    plt.title(\"No of Beds Vs Mean Price \" + regionCode)\n",
    "    plt.rcParams[\"figure.figsize\"] = [10,10]\n",
    "    plt.show()\n",
    "    plotName = regionCode + \"-mean_avg_price\"\n",
    "    plt.savefig(plotName)    "
   ]
  },
  {
   "cell_type": "code",
   "execution_count": null,
   "metadata": {
    "ExecuteTime": {
     "start_time": "2020-10-30T22:04:26.730Z"
    }
   },
   "outputs": [],
   "source": [
    "maxBeds = 8\n",
    "minBeds = 1\n",
    "devon = \"5E61297\"\n",
    "isleOfWight = \"5E61521\"\n",
    "cornwall = \"5E61294\"\n",
    "for i in range(minBeds,maxBeds+1): #plus one because the range isn't inclusive\n",
    "    gatherData(i, cornwall)\n",
    "    extractPricesToCSV(i, cornwall)"
   ]
  },
  {
   "cell_type": "code",
   "execution_count": 49,
   "metadata": {
    "ExecuteTime": {
     "end_time": "2020-10-30T22:26:58.965177Z",
     "start_time": "2020-10-30T22:26:58.621568Z"
    }
   },
   "outputs": [
    {
     "data": {
      "image/png": "[encoded data removed]",
      "text/plain": [
       "<Figure size 720x720 with 1 Axes>"
      ]
     },
     "metadata": {},
     "output_type": "display_data"
    },
    {
     "data": {
      "text/plain": [
       "<Figure size 720x720 with 0 Axes>"
      ]
     },
     "metadata": {},
     "output_type": "display_data"
    }
   ],
   "source": [
    "performCalculations(cornwall, 8)"
   ]
  },
  {
   "cell_type": "code",
   "execution_count": null,
   "metadata": {},
   "outputs": [],
   "source": []
  },
  {
   "cell_type": "code",
   "execution_count": null,
   "metadata": {},
   "outputs": [],
   "source": []
  }
 ],
 "metadata": {
  "kernelspec": {
   "display_name": "Python 3",
   "language": "python",
   "name": "python3"
  },
  "language_info": {
   "codemirror_mode": {
    "name": "ipython",
    "version": 3
   },
   "file_extension": ".py",
   "mimetype": "text/x-python",
   "name": "python",
   "nbconvert_exporter": "python",
   "pygments_lexer": "ipython3",
   "version": "3.7.7"
  },
  "toc": {
   "base_numbering": 1,
   "nav_menu": {},
   "number_sections": true,
   "sideBar": true,
   "skip_h1_title": true,
   "title_cell": "Table of Contents",
   "title_sidebar": "Contents",
   "toc_cell": false,
   "toc_position": {},
   "toc_section_display": true,
   "toc_window_display": false
  },
  "varInspector": {
   "cols": {
    "lenName": 16,
    "lenType": 16,
    "lenVar": "160"
   },
   "kernels_config": {
    "python": {
     "delete_cmd_postfix": "",
     "delete_cmd_prefix": "del ",
     "library": "var_list.py",
     "varRefreshCmd": "print(var_dic_list())"
    },
    "r": {
     "delete_cmd_postfix": ") ",
     "delete_cmd_prefix": "rm(",
     "library": "var_list.r",
     "varRefreshCmd": "cat(var_dic_list()) "
    }
   },
   "types_to_exclude": [
    "module",
    "function",
    "builtin_function_or_method",
    "instance",
    "_Feature"
   ],
   "window_display": false
  }
 },
 "nbformat": 4,
 "nbformat_minor": 4
}
